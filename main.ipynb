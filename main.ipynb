{
 "cells": [
  {
   "cell_type": "code",
   "execution_count": null,
   "id": "02b0b1c7",
   "metadata": {},
   "outputs": [],
   "source": [
    "import pandas as pd\n",
    "import os\n",
    "import streamlit as st\n",
    "import matplotlib.pyplot as plt\n",
    "import plotly.express as px\n",
    "# import tabulate as ta"
   ]
  },
  {
   "cell_type": "code",
   "execution_count": null,
   "id": "ebfa5259",
   "metadata": {},
   "outputs": [],
   "source": [
    "df = pd.read_excel(\"daily_reports/Daily report_20250115_Pattama_Sooksan.xlsx\")\n",
    "# print(df)\n",
    "df.head()"
   ]
  },
  {
   "cell_type": "code",
   "execution_count": null,
   "id": "216acdae",
   "metadata": {},
   "outputs": [],
   "source": [
    "df = pd.read_excel(\"daily_reports/Daily report_20250115_Raewwadee_Jaidee.xlsx\") \n",
    "# print(df)\n",
    "df.head()"
   ]
  },
  {
   "cell_type": "code",
   "execution_count": null,
   "id": "453369fd",
   "metadata": {},
   "outputs": [],
   "source": [
    "df_new = pd.read_excel(\"New Employee_YYYYMM.xlsx\")\n",
    "# print(df)\n",
    "df_new.head()"
   ]
  },
  {
   "cell_type": "code",
   "execution_count": null,
   "id": "b3c9f557",
   "metadata": {},
   "outputs": [],
   "source": [
    "\n",
    "passed_list = []\n",
    "\n",
    "for file in os.listdir(\"daily_reports\"):\n",
    "    if file.endswith(\".xlsx\"):\n",
    "        df = pd.read_excel(os.path.join(\"daily_reports\", file))\n",
    "        \n",
    "        # print(f\" ไฟล์: {file}\")\n",
    "        # print(\" คอลัมน์ในไฟล์นี้:\", df.columns)\n",
    "        \n",
    "        parts = file.replace(\".xlsx\", \"\").split(\"_\")\n",
    "        team_member = f\"{parts[2]} {parts[3]}\"\n",
    "        \n",
    "        #คัดเฉพาะแถวที่มีสถานะ \"Pass\"\n",
    "        passed = df[df['Status'] == 'Pass']\n",
    "\n",
    "        passed[\"Team Member\"] = team_member\n",
    "\n",
    "        passed_list.append(passed)\n",
    "        \n",
    "df_passed = pd.concat(passed_list, ignore_index=True) \n",
    "df_passed.head()\n",
    "\n"
   ]
  },
  {
   "cell_type": "code",
   "execution_count": null,
   "id": "9b16faf9",
   "metadata": {},
   "outputs": [],
   "source": [
    "df_passed.rename(columns={\n",
    "    \"Candidate Name\": \"Employee Name\"}, inplace=True)\n",
    "df_passed.head()"
   ]
  },
  {
   "cell_type": "code",
   "execution_count": null,
   "id": "f513c12b",
   "metadata": {},
   "outputs": [],
   "source": [
    "df_merge = pd.merge(df_new, df_passed, on=\"Employee Name\")\n",
    "df_merge.head()"
   ]
  },
  {
   "cell_type": "code",
   "execution_count": null,
   "id": "d00d9ebd",
   "metadata": {},
   "outputs": [],
   "source": [
    "\n",
    "df_result = df_merge[[\"Employee Name\", \"Join Date\", \"Role_x\", \"Team Member\"]].copy()\n",
    "df_result.rename(columns={ \"Role_x\":\"Role\"}, inplace=True)\n",
    "df_result.head()\n"
   ]
  },
  {
   "cell_type": "code",
   "execution_count": null,
   "id": "f0cf8048",
   "metadata": {},
   "outputs": [],
   "source": [
    "# ฟังก์เเสดงผล Dashboard\n",
    "st.set_page_config(page_title=\"Team Member Overview\",layout=\"wide\")\n",
    "st.title(\"Dashboard: Team Member Overview\")\n",
    "\n",
    "# แสดงตารางผลลัพธ์\n",
    "st.dataframe(df_result)\n",
    "\n",
    "#เเสดงกราฟแท่ง\n",
    "# เลือกตำแหน่ง (Role) \n",
    "roles = df_result['Role'].unique()\n",
    "selected_role = st.selectbox(\" Select Position (Role)\", options=['All'] + list(roles))\n",
    "\n",
    "#  กรองตามวันที่เริ่มงาน\n",
    "df_result['Join Date'] = pd.to_datetime(df_result['Join Date'])  # แปลงเป็น datetime ก่อน\n",
    "min_date = df_result['Join Date'].min()\n",
    "max_date = df_result['Join Date'].max()\n",
    "\n",
    "selected_date = st.date_input(\" Select Join Date \", value=min_date, min_value=min_date, max_value=max_date)\n",
    "\n",
    "# กรองข้อมูลตามตำแหน่งและวันที่\n",
    "filtered_df = df_result.copy()\n",
    "\n",
    "if selected_role != 'All':\n",
    "    filtered_df = filtered_df[filtered_df['Role'] == selected_role]\n",
    "    \n",
    "filtered_df = filtered_df[filtered_df['Join Date'] >= pd.to_datetime(selected_date)]\n",
    "filtered_df['Join Date'] = filtered_df['Join Date'].dt.strftime('%Y-%m-%d')\n",
    "\n",
    "\n",
    "# แสดงตารางหลังกรองข้อมูล\n",
    "st.write(\"Filtered Results:\")\n",
    "st.dataframe(filtered_df)\n",
    "\n",
    "# --- แสดงกราฟแท่ง ---\n",
    "if not filtered_df.empty:\n",
    "    role_counts = filtered_df['Role'].value_counts().reset_index()\n",
    "    role_counts.columns = ['Role', 'Count']\n",
    "    fig = px.bar(role_counts, x='Role', y='Count', color='Role',\n",
    "                 title='Graph of number of employees in each position')\n",
    "    fig.update_yaxes(dtick=1)\n",
    "    st.plotly_chart(fig)\n",
    "else:\n",
    "    st.warning(\"ไม่มีข้อมูลที่ตรงกับเงื่อนไขที่เลือก\")\n",
    "\n",
    "\n",
    "\n"
   ]
  }
 ],
 "metadata": {
  "kernelspec": {
   "display_name": "Python 3",
   "language": "python",
   "name": "python3"
  },
  "language_info": {
   "codemirror_mode": {
    "name": "ipython",
    "version": 3
   },
   "file_extension": ".py",
   "mimetype": "text/x-python",
   "name": "python",
   "nbconvert_exporter": "python",
   "pygments_lexer": "ipython3",
   "version": "3.11.0"
  }
 },
 "nbformat": 4,
 "nbformat_minor": 5
}
